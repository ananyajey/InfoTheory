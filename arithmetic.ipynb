{
 "cells": [
  {
   "cell_type": "code",
   "execution_count": 16,
   "metadata": {},
   "outputs": [],
   "source": [
    "message = \"01010 10110 11101 10111 00101\"\n",
    "dictionary = ['A', 'B', 'C', 'D', 'E']\n",
    "pmf = [0.25, 0.4, 0.15, 0.1, 0.1]\n",
    "length = 12"
   ]
  },
  {
   "cell_type": "code",
   "execution_count": 17,
   "metadata": {},
   "outputs": [],
   "source": [
    "def construct_intervals(dictionary, pmf):\n",
    "    bound = 0\n",
    "    intervals = {}\n",
    "    for letter, probability in zip(dictionary, pmf):\n",
    "        intervals[letter] = (bound, bound + probability)\n",
    "        bound += probability\n",
    "    \n",
    "    return intervals\n",
    "\n",
    "def binary_to_decimal(message):\n",
    "    exp = -1\n",
    "    number = 0.0\n",
    "    for digit in message:\n",
    "        if not (digit == \"0\" or digit == \"1\"):\n",
    "            continue\n",
    "\n",
    "        digit = int(digit)\n",
    "        number += digit * (2 ** exp)\n",
    "        exp -= 1\n",
    "    \n",
    "    return number\n",
    "\n",
    "\n"
   ]
  },
  {
   "cell_type": "code",
   "execution_count": 18,
   "metadata": {},
   "outputs": [
    {
     "name": "stdout",
     "output_type": "stream",
     "text": [
      "Decoded message:  BADBBDCBABEA\n"
     ]
    }
   ],
   "source": [
    "interval_dict = construct_intervals(dictionary, pmf)\n",
    "number = binary_to_decimal(message)\n",
    "\n",
    "current_range = (0.0, 1.0)\n",
    "decoded_message = \"\"\n",
    "for i in range(length):\n",
    "    for letter, interval in interval_dict.items():\n",
    "        temp_range = (current_range[0] + (current_range[1] - current_range[0]) * interval[0], current_range[0] + (current_range[1] - current_range[0]) * interval[1])\n",
    "        if (number >= temp_range[0]) and (number < temp_range[1]):\n",
    "            decoded_message = decoded_message + letter\n",
    "            current_range = temp_range\n",
    "            break\n",
    "\n",
    "print(\"Decoded message: \", decoded_message)"
   ]
  }
 ],
 "metadata": {
  "kernelspec": {
   "display_name": "Python 3",
   "language": "python",
   "name": "python3"
  },
  "language_info": {
   "codemirror_mode": {
    "name": "ipython",
    "version": 3
   },
   "file_extension": ".py",
   "mimetype": "text/x-python",
   "name": "python",
   "nbconvert_exporter": "python",
   "pygments_lexer": "ipython3",
   "version": "3.12.8"
  }
 },
 "nbformat": 4,
 "nbformat_minor": 2
}
